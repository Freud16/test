{
 "cells": [
  {
   "cell_type": "code",
   "execution_count": 4,
   "outputs": [
    {
     "name": "stdout",
     "output_type": "stream",
     "text": [
      "Collecting numpy\n",
      "  Downloading numpy-1.23.0-cp310-cp310-win_amd64.whl (14.6 MB)\n",
      "Installing collected packages: numpy\n",
      "Successfully installed numpy-1.23.0\n",
      "Note: you may need to restart the kernel to use updated packages.\n"
     ]
    }
   ],
   "source": [
    "pip install numpy"
   ],
   "metadata": {
    "collapsed": false,
    "pycharm": {
     "name": "#%%\n"
    }
   }
  },
  {
   "cell_type": "code",
   "execution_count": 7,
   "outputs": [
    {
     "data": {
      "text/plain": "(1.0001,\n array([[0.52287946, 0.39765872],\n        [0.39765872, 0.33710512]]),\n 1.0001,\n array([[0.7079973 , 0.24011343],\n        [0.24011343, 0.08150086]]),\n array([[-0.31902232, -0.08966345],\n        [ 0.61587077,  0.35843157]]),\n array([[ 0.42363254, -0.09936965],\n        [-0.09936965,  0.02735405]]))"
     },
     "execution_count": 7,
     "metadata": {},
     "output_type": "execute_result"
    }
   ],
   "source": [
    "#need open anaconda-jupyter prior to excution\n",
    "import numpy as np\n",
    "x=np.array([1,2,3,4]).reshape(2,2)\n",
    "y=np.array([2,1,1,1]).reshape(2,2)\n",
    "alph0=1\n",
    "beta0=2\n",
    "\n",
    "def compute_posterior(X, y, alph, beta):\n",
    "    #### **** YOUR CODE HERE **** ####\n",
    "    Mu=np.linalg.inv(X.T@X+alph/beta*np.identity((X.T@X).shape[0]))@X.T@y\n",
    "    SIGMA=1/beta*np.linalg.inv(X.T@X+alph/beta*np.identity((X.T@X).shape[0]))\n",
    "\n",
    "    return Mu, SIGMA\n",
    "def VI(X_train, y_train):\n",
    "    #### **** YOUR CODE HERE **** ####\n",
    "    a0,b0,c0,d0=10**(-4),10**(-4),10**(-4),10**(-4)\n",
    "    an,cn=a0+X_train.shape[1]/2,c0+X_train.shape[0]/2\n",
    "    alph0,beta0=a0/b0,c0/d0\n",
    "    mu_n,sig_n=compute_posterior(X_train, y_train, alph0, beta0)\n",
    "    i=0\n",
    "    while i<len(X_train):\n",
    "        bn=b0+(mu_n.T@mu_n+np.trace(sig_n))/2\n",
    "        dn=d0+(y_train-X_train@mu_n).T@(y_train-X_train@mu_n)/2\n",
    "        alphn,betan=an/bn,cn/dn\n",
    "        mu_n,sig_n=compute_posterior(X_train, y_train, alphn, betan)\n",
    "        i+=1\n",
    "\n",
    "    return an,bn,cn,dn, mu_n, sig_n\n",
    "\n",
    "VI(x,y)"
   ],
   "metadata": {
    "collapsed": false,
    "pycharm": {
     "name": "#%%\n"
    }
   }
  },
  {
   "cell_type": "code",
   "execution_count": null,
   "outputs": [],
   "source": [],
   "metadata": {
    "collapsed": false,
    "pycharm": {
     "name": "#%%\n"
    }
   }
  }
 ],
 "metadata": {
  "kernelspec": {
   "display_name": "Python 3 (ipykernel)",
   "language": "python",
   "name": "python3"
  },
  "language_info": {
   "codemirror_mode": {
    "name": "ipython",
    "version": 3
   },
   "file_extension": ".py",
   "mimetype": "text/x-python",
   "name": "python",
   "nbconvert_exporter": "python",
   "pygments_lexer": "ipython3",
   "version": "3.9.12"
  }
 },
 "nbformat": 4,
 "nbformat_minor": 5
}